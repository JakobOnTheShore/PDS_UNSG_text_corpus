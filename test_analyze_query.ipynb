{
 "cells": [
  {
   "cell_type": "code",
   "execution_count": 1,
   "id": "bdaa6cb8",
   "metadata": {},
   "outputs": [],
   "source": [
    "import numpy as np\n",
    "import pandas as pd"
   ]
  },
  {
   "cell_type": "markdown",
   "id": "f2f8dc4a",
   "metadata": {},
   "source": [
    "we queried for Guterres, António speeches and exported the result to csv \\\n",
    "find out which documents we need now"
   ]
  },
  {
   "cell_type": "code",
   "execution_count": 2,
   "id": "7f8eae6b",
   "metadata": {},
   "outputs": [
    {
     "name": "stdout",
     "output_type": "stream",
     "text": [
      "274\n"
     ]
    }
   ],
   "source": [
    "df_sg1 = pd.read_csv('test_data/search_guterres_1.csv')\n",
    "df_sg2 = pd.read_csv('test_data/search_guterres_2.csv')\n",
    "df_sg3 = pd.read_csv('test_data/search_guterres_3.csv')\n",
    "df_sg = pd.concat([df_sg1, df_sg2, df_sg3])\n",
    "print(df_sg.index.size)\n",
    "# df_sg.head(3)"
   ]
  },
  {
   "cell_type": "code",
   "execution_count": 3,
   "id": "e58cdbb9",
   "metadata": {},
   "outputs": [
    {
     "data": {
      "text/html": [
       "<div>\n",
       "<style scoped>\n",
       "    .dataframe tbody tr th:only-of-type {\n",
       "        vertical-align: middle;\n",
       "    }\n",
       "\n",
       "    .dataframe tbody tr th {\n",
       "        vertical-align: top;\n",
       "    }\n",
       "\n",
       "    .dataframe thead th {\n",
       "        text-align: right;\n",
       "    }\n",
       "</style>\n",
       "<table border=\"1\" class=\"dataframe\">\n",
       "  <thead>\n",
       "    <tr style=\"text-align: right;\">\n",
       "      <th></th>\n",
       "      <th>index</th>\n",
       "      <th>Record Identifier</th>\n",
       "      <th>Related Item.Resource Type-1</th>\n",
       "      <th>Related Item.Edition-1</th>\n",
       "      <th>Publication Date</th>\n",
       "      <th>Last Modification Date</th>\n",
       "      <th>989__a</th>\n",
       "    </tr>\n",
       "  </thead>\n",
       "  <tbody>\n",
       "    <tr>\n",
       "      <th>0</th>\n",
       "      <td>0</td>\n",
       "      <td>4088514</td>\n",
       "      <td>A/79/PV.7</td>\n",
       "      <td>A/</td>\n",
       "      <td>NaN</td>\n",
       "      <td>2.025092e+13</td>\n",
       "      <td>Speeches</td>\n",
       "    </tr>\n",
       "    <tr>\n",
       "      <th>1</th>\n",
       "      <td>1</td>\n",
       "      <td>4072438</td>\n",
       "      <td>A/78/PV.87</td>\n",
       "      <td>A/</td>\n",
       "      <td>NaN</td>\n",
       "      <td>2.025012e+13</td>\n",
       "      <td>Speeches</td>\n",
       "    </tr>\n",
       "    <tr>\n",
       "      <th>2</th>\n",
       "      <td>2</td>\n",
       "      <td>4067194</td>\n",
       "      <td>E/2024/SR.14</td>\n",
       "      <td>E/</td>\n",
       "      <td>NaN</td>\n",
       "      <td>2.024113e+13</td>\n",
       "      <td>Speeches</td>\n",
       "    </tr>\n",
       "    <tr>\n",
       "      <th>3</th>\n",
       "      <td>3</td>\n",
       "      <td>4039683</td>\n",
       "      <td>S/PV.9547</td>\n",
       "      <td>S/</td>\n",
       "      <td>NaN</td>\n",
       "      <td>2.025091e+13</td>\n",
       "      <td>Speeches</td>\n",
       "    </tr>\n",
       "    <tr>\n",
       "      <th>4</th>\n",
       "      <td>4</td>\n",
       "      <td>4036553</td>\n",
       "      <td>E/2023/SR.19</td>\n",
       "      <td>E/</td>\n",
       "      <td>NaN</td>\n",
       "      <td>2.024081e+13</td>\n",
       "      <td>Speeches</td>\n",
       "    </tr>\n",
       "  </tbody>\n",
       "</table>\n",
       "</div>"
      ],
      "text/plain": [
       "   index  Record Identifier Related Item.Resource Type-1  \\\n",
       "0      0            4088514                    A/79/PV.7   \n",
       "1      1            4072438                   A/78/PV.87   \n",
       "2      2            4067194                 E/2024/SR.14   \n",
       "3      3            4039683                    S/PV.9547   \n",
       "4      4            4036553                 E/2023/SR.19   \n",
       "\n",
       "  Related Item.Edition-1 Publication Date  Last Modification Date    989__a  \n",
       "0                     A/              NaN            2.025092e+13  Speeches  \n",
       "1                     A/              NaN            2.025012e+13  Speeches  \n",
       "2                     E/              NaN            2.024113e+13  Speeches  \n",
       "3                     S/              NaN            2.025091e+13  Speeches  \n",
       "4                     E/              NaN            2.024081e+13  Speeches  "
      ]
     },
     "execution_count": 3,
     "metadata": {},
     "output_type": "execute_result"
    }
   ],
   "source": [
    "df_sg = df_sg[['Record Identifier', 'Related Item.Resource Type-1', 'Related Item.Edition-1', 'Publication Date', 'Last Modification Date', '989__a']]\n",
    "df_sg.reset_index(inplace=True)\n",
    "df_sg.head()"
   ]
  },
  {
   "cell_type": "code",
   "execution_count": 4,
   "id": "313a0a26",
   "metadata": {},
   "outputs": [
    {
     "name": "stdout",
     "output_type": "stream",
     "text": [
      "there are 238 unique docs\n"
     ]
    }
   ],
   "source": [
    "# df_sg['searchable_document_name'] = [x.replace('/','\\\\/') for x in df_sg['Related Item.Resource Type-1']] # remove or escape '/' so it is searchable in the un library\n",
    "df_sg['searchable_document_name'] = [x.replace('/','') for x in df_sg['Related Item.Resource Type-1']] # remove or escape '/' so it is searchable in the un library\n",
    "print(f'there are {df_sg.searchable_document_name.nunique()} unique docs')"
   ]
  },
  {
   "cell_type": "code",
   "execution_count": 5,
   "id": "6c5f6907",
   "metadata": {},
   "outputs": [
    {
     "name": "stdout",
     "output_type": "stream",
     "text": [
      "All documents related to Guterres: ['A79PV.7', 'A78PV.87', 'E2024SR.14', 'SPV.9547', 'E2023SR.19', 'SPV.9451', 'AC.577SR.5', 'A77PV.48', 'AES-11PV.17', 'E2022SR.25', 'SPV.9090', 'SPV.9064', 'SPV.9027', 'SPV.9001', 'SPV.8974', 'SPV.8906', 'SPV.8900', 'A75PV.59', 'A75PV.51', 'SPV.8803', 'AS-31PV.2', 'SPV.8721', 'SPV.8717', 'A73PV.74', 'A73PV.71', 'A73PV.59', 'A73PV.2', 'SPV.8185', 'A72PV.1', 'SPV.6949', 'E2011SR.39', 'SPV.9734', 'SPV.9662', 'SPV.9557', 'A77PV.74', 'SPV.9241', 'SPV.9220', 'SPV.9181', 'E2022SR.30', 'SPV.9135', 'A76PV.56', 'SPV.8886', 'A75PV.105', 'A75PV.67', 'SPV.8834', 'A75PV.72', 'A75PV.16', 'A74PV.66', 'A73PV.102', 'SPV.8626', 'A73PV.87', 'SPV.8548', 'SPV.8382', 'A72PV.83', 'SPV.8183', 'A72PV.80', 'E2017SR.43', 'SPV.8137', 'SPV.8080', 'A71PV.60', 'A71PV.27', 'SPV.7000', 'AC.367SR.32', 'SPV.6668', 'SPV.9939', 'SPV.9919', 'SPV.9884', 'A78PV.81', 'SPV.9731', 'AC.578SR.5', 'E2023SR.30', 'SPV.9346', 'SPV.9310', 'A76PV.75', 'A76PV.63', 'SPV.8967', 'A76PV.19', 'SPV.8923', 'SPV.8864', 'A75PV.57', 'A75PV.33', 'A74PV.3', 'SPV.7918', 'SPV.8668', 'E2019SR.27', 'E2019SR.14', 'SPV.8633', 'A73PV.99', 'SPV.8546', 'SPV.8534', 'A73PV.1', 'SPV.8413', 'SPV.8414', 'A72PV.117', 'A72PV.99', 'SPV.8293', 'SPV.8243', 'SPV.8233', 'SPV.8160', 'AC.572SR.4', 'SPV.9381', 'SPV.9296', 'A77PV.15', 'A77PV.2', 'A76PV.103', 'E2022SR.14', 'A76PV.62', 'SPV.9036', 'A76PV.3', 'SPV.8838', 'AC.574SR.2', 'SPV.8738', 'SPV.8497', 'A73PV.57', 'E2018SR.9', 'A72PV.91', 'SPV.8231', 'AC.572SR.19', 'E2017SR.39', 'A72PV.3', 'SPV.8082', 'SPV.8060', 'A71PV.73', 'A71PV.83', 'SPV.7857', 'SPV.7592', 'AC.369SR.40', 'SPV.7128', 'AC.366SR.38', 'AC.365SR.38', 'AC.364SR.38', 'AC.362SR.40', 'SPV.9939', 'SPV.9919', 'SPV.9884', 'A78PV.81', 'SPV.9731', 'AC.578SR.5', 'E2023SR.30', 'SPV.9346', 'SPV.9310', 'A76PV.75', 'A76PV.63', 'SPV.8967', 'A76PV.19', 'SPV.8923', 'SPV.8864', 'A75PV.57', 'A75PV.33', 'A74PV.3', 'SPV.7918', 'SPV.8668', 'E2019SR.27', 'E2019SR.14', 'SPV.8633', 'A73PV.99', 'SPV.8546', 'SPV.8534', 'A73PV.1', 'SPV.8413', 'SPV.8414', 'A72PV.117', 'A72PV.99', 'SPV.8293', 'SPV.8243', 'SPV.8233', 'SPV.8160', 'AC.572SR.4', 'SPV.8144', 'SPV.7898', 'A70PV.59', 'SPV.7394', 'SPV.6062', 'SPV.5353', 'A79PV.72', 'A79PV.67', 'A78PV.109', 'AC.579SR.5', 'A78PV.50(Resumption1)', 'SPV.9633', 'SPV.9498', 'SPV.9482', 'SPV.9421', 'A77PV.64', 'SPV.9308', 'SPV.9149', 'SPV.8877', 'SPV.8843', 'A75PV.58', 'A75PV.1', 'A74PV.39', 'A74PV.16', 'SPV.8711', 'SPV.7926', 'SPV.8649', 'A73PV.108', 'A73PV.4', 'SPV.8218', 'SPV.8162', 'A72PV.79', 'A72PV.24', 'SPV.8051', 'SPV.8006', 'SPV.7951', 'SPV.7886', 'A71PV.98', 'A71PV.72', 'AC.368SR.41', 'SPV.6826', 'AC.360SR.36', 'SPV.9988', 'SPV.9962', 'SPV.9907', 'SPV.9861', 'A79PV.1', 'E2024SR.25', 'SPV.9761', 'SPV.9732', 'SPV.9269', 'A77PV.4', 'A76PV.90', 'SPV.9124', 'SPV.9115', 'SPV.9068', 'A76PV.1', 'SPV.8875', 'A75PV.3', 'A75PV.4', 'A74PV.1', 'SPV.8699', 'AC.573SR.40', 'SPV.8521', 'A73PV.6', 'SPV.8395', 'SPV.8372', 'SPV.8334', 'A72PV.112', 'A72PV.92', 'SPV.8111', 'SPV.8106', 'SPV.7433', 'SPV.6882', 'E2011SR.36', 'AC.363SR.36', 'A55PV.4', 'SPV.9841', 'SPV.9821', 'A78PV.55', 'SPV.9738', 'SPV.9733', 'SPV.9579', 'SPV.9567', 'SPV.9534', 'SPV.9489', 'SPV.9452', 'SPV.9260', 'A76PV.73', 'SPV.9112', 'SPV.9011', 'SPV.8953', 'A76PV.5', 'SPV.8851', 'A75PV.82', 'A75PV.63', 'AC.575SR.3', 'A74PV.54', 'E2019SR.29', 'SPV.8508', 'SPV.8456', 'SPV.8407', 'A72PV.94', 'SPV.8069', 'AC.361SR.40', 'AS-19PV.2']\n"
     ]
    }
   ],
   "source": [
    "# print out these docs\n",
    "print(f'All documents related to Guterres: {df_sg.searchable_document_name.tolist()}')"
   ]
  },
  {
   "cell_type": "code",
   "execution_count": 6,
   "id": "7784f642",
   "metadata": {},
   "outputs": [
    {
     "data": {
      "text/plain": [
       "nunique    238\n",
       "count      274\n",
       "size       274\n",
       "Name: searchable_document_name, dtype: int64"
      ]
     },
     "execution_count": 6,
     "metadata": {},
     "output_type": "execute_result"
    }
   ],
   "source": [
    "df_sg.searchable_document_name.agg(['nunique','count','size'])\n",
    "# seems like no None values"
   ]
  },
  {
   "cell_type": "code",
   "execution_count": 7,
   "id": "207bd0e0",
   "metadata": {},
   "outputs": [
    {
     "data": {
      "text/html": [
       "<div>\n",
       "<style scoped>\n",
       "    .dataframe tbody tr th:only-of-type {\n",
       "        vertical-align: middle;\n",
       "    }\n",
       "\n",
       "    .dataframe tbody tr th {\n",
       "        vertical-align: top;\n",
       "    }\n",
       "\n",
       "    .dataframe thead th {\n",
       "        text-align: right;\n",
       "    }\n",
       "</style>\n",
       "<table border=\"1\" class=\"dataframe\">\n",
       "  <thead>\n",
       "    <tr style=\"text-align: right;\">\n",
       "      <th></th>\n",
       "      <th>index</th>\n",
       "      <th>Record Identifier</th>\n",
       "      <th>Related Item.Resource Type-1</th>\n",
       "      <th>Related Item.Edition-1</th>\n",
       "      <th>Publication Date</th>\n",
       "      <th>Last Modification Date</th>\n",
       "      <th>989__a</th>\n",
       "    </tr>\n",
       "    <tr>\n",
       "      <th>searchable_document_name</th>\n",
       "      <th></th>\n",
       "      <th></th>\n",
       "      <th></th>\n",
       "      <th></th>\n",
       "      <th></th>\n",
       "      <th></th>\n",
       "      <th></th>\n",
       "    </tr>\n",
       "  </thead>\n",
       "  <tbody>\n",
       "    <tr>\n",
       "      <th>A72PV.117</th>\n",
       "      <td>2</td>\n",
       "      <td>2</td>\n",
       "      <td>2</td>\n",
       "      <td>2</td>\n",
       "      <td>2</td>\n",
       "      <td>2</td>\n",
       "      <td>2</td>\n",
       "    </tr>\n",
       "    <tr>\n",
       "      <th>A72PV.99</th>\n",
       "      <td>2</td>\n",
       "      <td>2</td>\n",
       "      <td>2</td>\n",
       "      <td>2</td>\n",
       "      <td>2</td>\n",
       "      <td>2</td>\n",
       "      <td>2</td>\n",
       "    </tr>\n",
       "    <tr>\n",
       "      <th>A73PV.1</th>\n",
       "      <td>2</td>\n",
       "      <td>2</td>\n",
       "      <td>2</td>\n",
       "      <td>2</td>\n",
       "      <td>2</td>\n",
       "      <td>2</td>\n",
       "      <td>2</td>\n",
       "    </tr>\n",
       "    <tr>\n",
       "      <th>A73PV.99</th>\n",
       "      <td>2</td>\n",
       "      <td>2</td>\n",
       "      <td>2</td>\n",
       "      <td>2</td>\n",
       "      <td>2</td>\n",
       "      <td>2</td>\n",
       "      <td>2</td>\n",
       "    </tr>\n",
       "  </tbody>\n",
       "</table>\n",
       "</div>"
      ],
      "text/plain": [
       "                          index  Record Identifier  \\\n",
       "searchable_document_name                             \n",
       "A72PV.117                     2                  2   \n",
       "A72PV.99                      2                  2   \n",
       "A73PV.1                       2                  2   \n",
       "A73PV.99                      2                  2   \n",
       "\n",
       "                          Related Item.Resource Type-1  \\\n",
       "searchable_document_name                                 \n",
       "A72PV.117                                            2   \n",
       "A72PV.99                                             2   \n",
       "A73PV.1                                              2   \n",
       "A73PV.99                                             2   \n",
       "\n",
       "                          Related Item.Edition-1  Publication Date  \\\n",
       "searchable_document_name                                             \n",
       "A72PV.117                                      2                 2   \n",
       "A72PV.99                                       2                 2   \n",
       "A73PV.1                                        2                 2   \n",
       "A73PV.99                                       2                 2   \n",
       "\n",
       "                          Last Modification Date  989__a  \n",
       "searchable_document_name                                  \n",
       "A72PV.117                                      2       2  \n",
       "A72PV.99                                       2       2  \n",
       "A73PV.1                                        2       2  \n",
       "A73PV.99                                       2       2  "
      ]
     },
     "execution_count": 7,
     "metadata": {},
     "output_type": "execute_result"
    }
   ],
   "source": [
    "duplicat = df_sg.groupby(df_sg['searchable_document_name']).count()\n",
    "duplicat[duplicat['index'] > 1].head(4)\n",
    "# duplicat.columns"
   ]
  },
  {
   "cell_type": "code",
   "execution_count": 8,
   "id": "9f6b8d09",
   "metadata": {},
   "outputs": [
    {
     "data": {
      "text/html": [
       "<div>\n",
       "<style scoped>\n",
       "    .dataframe tbody tr th:only-of-type {\n",
       "        vertical-align: middle;\n",
       "    }\n",
       "\n",
       "    .dataframe tbody tr th {\n",
       "        vertical-align: top;\n",
       "    }\n",
       "\n",
       "    .dataframe thead th {\n",
       "        text-align: right;\n",
       "    }\n",
       "</style>\n",
       "<table border=\"1\" class=\"dataframe\">\n",
       "  <thead>\n",
       "    <tr style=\"text-align: right;\">\n",
       "      <th></th>\n",
       "      <th>index</th>\n",
       "      <th>Record Identifier</th>\n",
       "      <th>Related Item.Resource Type-1</th>\n",
       "      <th>Publication Date</th>\n",
       "      <th>Last Modification Date</th>\n",
       "      <th>989__a</th>\n",
       "      <th>searchable_document_name</th>\n",
       "    </tr>\n",
       "    <tr>\n",
       "      <th>Related Item.Edition-1</th>\n",
       "      <th></th>\n",
       "      <th></th>\n",
       "      <th></th>\n",
       "      <th></th>\n",
       "      <th></th>\n",
       "      <th></th>\n",
       "      <th></th>\n",
       "    </tr>\n",
       "  </thead>\n",
       "  <tbody>\n",
       "    <tr>\n",
       "      <th>A/</th>\n",
       "      <td>112</td>\n",
       "      <td>112</td>\n",
       "      <td>112</td>\n",
       "      <td>97</td>\n",
       "      <td>112</td>\n",
       "      <td>112</td>\n",
       "      <td>112</td>\n",
       "    </tr>\n",
       "    <tr>\n",
       "      <th>E/</th>\n",
       "      <td>18</td>\n",
       "      <td>18</td>\n",
       "      <td>18</td>\n",
       "      <td>13</td>\n",
       "      <td>18</td>\n",
       "      <td>18</td>\n",
       "      <td>18</td>\n",
       "    </tr>\n",
       "    <tr>\n",
       "      <th>S/</th>\n",
       "      <td>144</td>\n",
       "      <td>144</td>\n",
       "      <td>144</td>\n",
       "      <td>109</td>\n",
       "      <td>144</td>\n",
       "      <td>144</td>\n",
       "      <td>144</td>\n",
       "    </tr>\n",
       "  </tbody>\n",
       "</table>\n",
       "</div>"
      ],
      "text/plain": [
       "                        index  Record Identifier  \\\n",
       "Related Item.Edition-1                             \n",
       "A/                        112                112   \n",
       "E/                         18                 18   \n",
       "S/                        144                144   \n",
       "\n",
       "                        Related Item.Resource Type-1  Publication Date  \\\n",
       "Related Item.Edition-1                                                   \n",
       "A/                                               112                97   \n",
       "E/                                                18                13   \n",
       "S/                                               144               109   \n",
       "\n",
       "                        Last Modification Date  989__a  \\\n",
       "Related Item.Edition-1                                   \n",
       "A/                                         112     112   \n",
       "E/                                          18      18   \n",
       "S/                                         144     144   \n",
       "\n",
       "                        searchable_document_name  \n",
       "Related Item.Edition-1                            \n",
       "A/                                           112  \n",
       "E/                                            18  \n",
       "S/                                           144  "
      ]
     },
     "execution_count": 8,
     "metadata": {},
     "output_type": "execute_result"
    }
   ],
   "source": [
    "df_sg.groupby(df_sg['Related Item.Edition-1']).count()"
   ]
  },
  {
   "cell_type": "markdown",
   "id": "2d975786",
   "metadata": {},
   "source": [
    "The documents are related to the following meetings:\n",
    "- S: 144 docs - Security Council\n",
    "- A: 112 docs - General Assembly \n",
    "- E: 018 docs - Economic and Social Council"
   ]
  },
  {
   "cell_type": "code",
   "execution_count": 15,
   "id": "f67af493",
   "metadata": {},
   "outputs": [
    {
     "data": {
      "text/html": [
       "<div>\n",
       "<style scoped>\n",
       "    .dataframe tbody tr th:only-of-type {\n",
       "        vertical-align: middle;\n",
       "    }\n",
       "\n",
       "    .dataframe tbody tr th {\n",
       "        vertical-align: top;\n",
       "    }\n",
       "\n",
       "    .dataframe thead th {\n",
       "        text-align: right;\n",
       "    }\n",
       "</style>\n",
       "<table border=\"1\" class=\"dataframe\">\n",
       "  <thead>\n",
       "    <tr style=\"text-align: right;\">\n",
       "      <th></th>\n",
       "      <th>index</th>\n",
       "      <th>Record Identifier</th>\n",
       "      <th>Related Item.Resource Type-1</th>\n",
       "      <th>Related Item.Edition-1</th>\n",
       "      <th>Publication Date</th>\n",
       "      <th>Last Modification Date</th>\n",
       "      <th>989__a</th>\n",
       "      <th>searchable_document_name</th>\n",
       "    </tr>\n",
       "  </thead>\n",
       "  <tbody>\n",
       "  </tbody>\n",
       "</table>\n",
       "</div>"
      ],
      "text/plain": [
       "Empty DataFrame\n",
       "Columns: [index, Record Identifier, Related Item.Resource Type-1, Related Item.Edition-1, Publication Date, Last Modification Date, 989__a, searchable_document_name]\n",
       "Index: []"
      ]
     },
     "execution_count": 15,
     "metadata": {},
     "output_type": "execute_result"
    }
   ],
   "source": [
    "df_sg[df_sg.searchable_document_name.str.contains('SPV.8789')]"
   ]
  }
 ],
 "metadata": {
  "kernelspec": {
   "display_name": "p313",
   "language": "python",
   "name": "python3"
  },
  "language_info": {
   "codemirror_mode": {
    "name": "ipython",
    "version": 3
   },
   "file_extension": ".py",
   "mimetype": "text/x-python",
   "name": "python",
   "nbconvert_exporter": "python",
   "pygments_lexer": "ipython3",
   "version": "3.13.7"
  }
 },
 "nbformat": 4,
 "nbformat_minor": 5
}
